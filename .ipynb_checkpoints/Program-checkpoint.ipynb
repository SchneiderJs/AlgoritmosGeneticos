{
 "cells": [
  {
   "cell_type": "markdown",
   "metadata": {},
   "source": [
    "# Algoritmos Genéticos\n",
    "\n",
    "#### Alunos: Arthur Bizon, Gabriel Schneider e Luciane Tedesco"
   ]
  },
  {
   "cell_type": "markdown",
   "metadata": {},
   "source": [
    "Este trabalho discute a implementação do algoritmo genético baseado no caso do Caixeiro Viajante.\n",
    "\n",
    "Assumimos que há um caixeiro-viajante que precisa visitar n cidades através do caminho mais curto\n",
    "possível. Ele visita cada cidade exatamente uma vez, em seguida, retorna para a cidade onde ele\n",
    "começou. Portanto, uma solução seria uma lista de todas as cidades na ordem que ele as visita: como\n",
    "Cidade 1, Cidade 2,..., Cidade n; onde a cidade 1 é o seu estado inicial. Assim, os cromossomos para o\n",
    "algoritmo genético serão diferentes permutações dos números inteiros de 1 a n."
   ]
  },
  {
   "cell_type": "markdown",
   "metadata": {},
   "source": [
    "<img src=\"Images/Alg-Geneticos.png\">"
   ]
  },
  {
   "cell_type": "markdown",
   "metadata": {},
   "source": [
    "Há muitas variações do problema caixeiro-viajante, mas para este trabalho faremos as seguintes\n",
    "suposições:\n",
    "- Cidades: Representadas por cromossomos, são números inteiros de 1 a 20.\n",
    "- As n cidades serão listados na ordem c1 → c2 → ... → cn num dado cromossomo. \n",
    "- Coordenadas: Consideramos 20 cidades com coordenadas representadas por números aleatórios entre (0,0) e (1,1) em um plano cartesiano.\n",
    "- Partindo do princípio que estamos tentando minimizar a distância total que o caixeiro viajante percorre, a função de aptdão será a distância total D:\n",
    "<img src=\"Images/D1.png\" width=300 align=\"left\" >    \n"
   ]
  },
  {
   "cell_type": "markdown",
   "metadata": {},
   "source": [
    "- A cidade n+1 = Cidade 1 (estado inicial). Se (xi, yi) são as coordenadas da cidade ci, logo, a função de aptidão (fitness) é dada pela distância euclidiana:\n",
    "<img src=\"Images/D2.png\" width=300 align=\"left\"> "
   ]
  },
  {
   "cell_type": "markdown",
   "metadata": {},
   "source": [
    "- Assumimos que a distância d da cidade ci para a cidade cj é: d (ci, cj) = d (cj, ci) para todo i ∈\n",
    "[1, n] e j ∈ [1, n]. \n",
    "- O tamanho da população é 20 e o número de interações é 10.000.\n",
    "- Para construir as gerações subsequentes, mantemos a metade da população atual e geramos a outra metade da nova geração por meio da seleção e do crossover, mantendo apenas parte da população.\n",
    "- Para determinar a distribuição do conjunto de cromossomos que serão escolhidos para a reprodução, calculamos a probabilidade, na qual distribuimos os valores inversamente (visto que organizamos os cromossomos em ordem crescente do mais apto ao menos apto).\n",
    "- Para selecionar os cromossomo, utilizamos o método da roleta.\n",
    "- Como no nosso caso o agente visita somente uma vez cada cidade, utilizaremos para fazer a Recombinação (crossover) a técnica de “cycle” (exemplo na Figura 1), onde:\n",
    "\n",
    "        - Escolhemos um local aleatório dentro do cromossomo.\n",
    "        \n",
    "        - Passo 1: Os dois cromossomos pais trocam os números inteiros neste local para gerar os descendentes.\n",
    "          A menos que os números trocados tenham o mesmo valor, cada descendente terá um número duplicado.\n",
    "          \n",
    "        - Passo 2: Em seguida, mudamos o número duplicado da primeira descendência com o mesmo local do número \n",
    "          da segunda descendência.\n",
    "          \n",
    "        - Passo 3 e 4: Isto significa que temos agora outro número duplicado então, repitiremos este processo \n",
    "          até não terem mais números duplicados.\n",
    "\n",
    "Exemplo de Recombinação Cycle:\n",
    "<img src=\"Images/Cycle.png\"> \n",
    "\n",
    "- O operador de mutação escolhe aleatoriamente dois números inteiros em um cromossomo da nova geração e os troca. O operador de mutação atua sobre cada membro da nova geração com probabilidade de 0,05"
   ]
  },
  {
   "cell_type": "markdown",
   "metadata": {},
   "source": [
    "### Desenvolvimento:\n",
    "\n",
    "Nesta sessão será demonstrado o passo a passo para a solução do problema proposto, incluindo:\n",
    "- A definição da função de aptidão  \n",
    "- A definição das coordenadas para as 20 cidades\n",
    "- A geração da população inicial\n",
    "- A criação da Roleta\n",
    "- A obtenção das próximas gerações\n",
    "\n",
    "[Aqui](src/Documentacao.html) você encontra a documentação dos métodos criados.\n"
   ]
  },
  {
   "cell_type": "markdown",
   "metadata": {},
   "source": [
    "#### Definição da função de aptidão:"
   ]
  },
  {
   "cell_type": "code",
   "execution_count": 28,
   "metadata": {},
   "outputs": [],
   "source": [
    "import random\n",
    "from math import sqrt\n",
    "import matplotlib.pyplot as plt\n",
    "\n",
    "distancia_euclidiana = lambda p1, p2: sqrt(pow(coordenadas['x'][p2]-coordenadas['x'][p1], 2) \n",
    "                                           + pow(coordenadas['y'][p2]-coordenadas['y'][p1], 2))\n",
    "\n",
    "# Esta função calcula as distâncias entre todas as cidades.\n",
    "# Retorna uma lista contendo a distância de qualquer ponto até qualquer outro ponto.\n",
    "def obter_distancias():\n",
    "    distancias = []\n",
    "    for i in range(20):\n",
    "        aux = []\n",
    "        for j in range(20):\n",
    "            aux.append(distancia_euclidiana(i, j))\n",
    "        distancias.append(aux)\n",
    "\n",
    "    return distancias\n",
    "\n",
    "\n",
    "# Esta função calcula a distância para se percorer as cidades indicadas pelo cromossomo.\n",
    "# Retorna o custo total para passar por todas as cidades e retornar a origem.\n",
    "def obter_distancia_total(cromossomo, distancias):\n",
    "    x = 0\n",
    "    for i in range(len(cromossomo)-1):\n",
    "        x += distancias[cromossomo[i]][cromossomo[i+1]]\n",
    "    # Adiciona a distância para retornar a cidade inicial\n",
    "    x += distancias[cromossomo[-1]][cromossomo[0]]\n",
    "\n",
    "    return x"
   ]
  },
  {
   "cell_type": "markdown",
   "metadata": {},
   "source": [
    "#### Definição das coordenadas para as 20 cidades:"
   ]
  },
  {
   "cell_type": "code",
   "execution_count": 21,
   "metadata": {},
   "outputs": [],
   "source": [
    "# Esta função gera um cromossomo com a ordem que as cidades devem ser percorridas e a distância total do percurso.\n",
    "# Retorna uma tuple onde o primeiro elemento é a ordem em que as cidades devem ser percorridas e o segundo \n",
    "# elemento é a distância total do caminho.\n",
    "def gerar_cromossomo(distancias):\n",
    "    # Lista aleatória sem números duplicados\n",
    "    cromossomo = random.sample(range(20), 20)\n",
    "    distancia = obter_distancia_total(cromossomo, distancias)\n",
    "    return (cromossomo, distancia)\n",
    "\n",
    "# Criação das coordenadas das cidades\n",
    "random_int_x = random.sample(range(0, 100), 20) # coordenada x\n",
    "random_int_y = random.sample(range(0, 100), 20) # coordenada y\n",
    "coordenadas = {'x': [x/100 for x in random_int_x], 'y': [y/100 for y in random_int_y]} # dict de coordenadas"
   ]
  },
  {
   "cell_type": "markdown",
   "metadata": {},
   "source": [
    "#### Geração da população inicial:"
   ]
  },
  {
   "cell_type": "code",
   "execution_count": 22,
   "metadata": {},
   "outputs": [],
   "source": [
    "# Criação da matriz de adjacências\n",
    "distancias  = obter_distancias()  # matrix de adjacência\n",
    "populacao = [gerar_cromossomo(distancias) for i in range(20)] # todos os cromossomos com a distância total do caminho\n",
    "\n",
    "# Ordenar a população\n",
    "populacao = sorted(populacao, key= lambda s: s[1])"
   ]
  },
  {
   "cell_type": "markdown",
   "metadata": {},
   "source": [
    "#### Criação da Roleta:"
   ]
  },
  {
   "cell_type": "code",
   "execution_count": 29,
   "metadata": {},
   "outputs": [],
   "source": [
    "# Roleta\n",
    "roleta = []\n",
    "for i in range(10):\n",
    "    roleta += [(i)]*(10-i)"
   ]
  },
  {
   "cell_type": "markdown",
   "metadata": {},
   "source": [
    "#### Obtenção das próximas gerações:"
   ]
  },
  {
   "cell_type": "code",
   "execution_count": 24,
   "metadata": {},
   "outputs": [],
   "source": [
    "# Esta função faz o cruzamento entre o pai \"a\" e \"b\".\n",
    "# Retorna uma lista contendo dois novos cromossomos.\n",
    "def cycle(paiA, paiB):\n",
    "\n",
    "    # Esta função realiza a troca dos genes do pai \"a\" e \"b\" indicados pelo indice.\n",
    "    def trocar(index):\n",
    "        aux = paiA[index]\n",
    "        paiA[index] = paiB[index]\n",
    "        paiB[index] = aux\n",
    "\n",
    "    # Esta função verifica se o cromossomo pai \"a\" possui genes duplicados.\n",
    "    def verificar_duplicados():\n",
    "        for i in range(len(paiA) - 1):\n",
    "            for j in range(i + 1, len(paiA)):\n",
    "                if paiA[i] == paiA[j]:\n",
    "                    return True\n",
    "        return False\n",
    "\n",
    "    # Esta função escolhe aleatoriamente um gene para ser trocado entre o pai \"a\" e \"b\" e realiza a troca.\n",
    "    # Retorna o índice do gene que foi efetuado a troca.\n",
    "    def passo1():\n",
    "        index = random.choice(list(range(20)))\n",
    "        trocar(index)\n",
    "        return index\n",
    "\n",
    "    # Esta função realiza uma troca de genes entre os cromossomos pai \"a\" e \"b\", o índice da troca é definido\n",
    "    # pelo gene repetido no pai \"a\".\n",
    "    # Retorna o índice do gene que foi efetuado a troca.\n",
    "    def passo2(index):\n",
    "        if paiA[index] == paiB[index]:\n",
    "            return\n",
    "        for idx, a in enumerate(paiA):\n",
    "            if paiA[index] == a and idx != index:\n",
    "                trocar(idx)\n",
    "                index = idx\n",
    "                break\n",
    "        return idx\n",
    "\n",
    "    # Esta função realiza a troca de genes até que o cromossomo pai \"a\" não possua mais genes repetidos.\n",
    "    # Retorna dois novos cromossomos que surgiram a partir do cruzamento do pai \"a\" e \"b\". \n",
    "    def passo3(index):\n",
    "    # Enquanto o pai \"a\" tiver genes repetidos, troca genes com o pai \"b\"\n",
    "        while verificar_duplicados():\n",
    "            index = passo2(index)\n",
    "        return paiA, paiB\n",
    "\n",
    "    idx = passo1()\n",
    "    idx = passo2(idx)\n",
    "    return passo3(idx)\n",
    "\n",
    "\n",
    "# Esta função realiza a mutação no cromossomo filho. A mutação consiste em inverter o valores de dois índices \n",
    "# selecionados aleatoriamente.\n",
    "# Retorna o cromossomo mutado\n",
    "def mutacao(filho):\n",
    "    # Escolhe dois genes para inverter no cromossomo\n",
    "    lista = list(range(19))\n",
    "    index_1 = random.choice(lista)\n",
    "    lista.remove(index_1)\n",
    "    index_2 = random.choice(lista)\n",
    "\n",
    "    aux = filho[index_1]\n",
    "    [index_1] = filho[index_2]\n",
    "    filho[index_2] = aux\n",
    "\n",
    "    return filho\n",
    "\n",
    "# Está função realiza a execução do algoritmo genético a partir de uma população passada por parâmetro.\n",
    "# Retorna uma lista com a nova população, a quantidade de individuos gerados e a quantidade dos individuos\n",
    "# que foram mutados.\n",
    "def gerar_geracao(populacao):\n",
    "    qtdMutacoes = 0\n",
    "    populacao_gerada = 0\n",
    "\n",
    "    # Roleta - Sortear\n",
    "    sorteadosA = [random.choice(roleta) for i in range(5)]\n",
    "    sorteadosB = [random.choice(roleta) for i in range(5)]\n",
    "\n",
    "    filhos = []\n",
    "    for paiA, paiB in zip(sorteadosA, sorteadosB):\n",
    "        # Realiza o cruzamento\n",
    "        filho_a, filho_b = cycle(populacao[paiA][0], populacao[paiB][0])\n",
    "\n",
    "        populacao_gerada += 2\n",
    "\n",
    "        # Aplica mutação se pm for menor ou igual a 5\n",
    "        pm = random.randint(1, 100)\n",
    "        if pm <= 5:\n",
    "            filho_a = mutacao(filho_a)\n",
    "            qtdMutacoes += 1\n",
    "\n",
    "        pm = random.randint(1, 100)\n",
    "        if pm <= 5:\n",
    "            filho_b = mutacao(filho_b)\n",
    "            qtdMutacoes += 1\n",
    "\n",
    "        # Encapsula os cromossomos em uma tupla\n",
    "        filho_a = (filho_a, obter_distancia_total(filho_a, distancias))\n",
    "        filho_b = (filho_b, obter_distancia_total(filho_b, distancias))\n",
    "\n",
    "        filhos.append(filho_a)\n",
    "        filhos.append(filho_b)\n",
    "\n",
    "    # Substitui os 10 últimos cromossomos pelos 10 novos filhos\n",
    "    populacao = populacao[:10]\n",
    "    for f in filhos:\n",
    "        populacao.append(f)\n",
    "\n",
    "    # Ordena a população com os novos cromossomos\n",
    "    populacao = sorted(populacao, key= lambda s: s[1])\n",
    "\n",
    "    return populacao, populacao_gerada, qtdMutacoes"
   ]
  },
  {
   "cell_type": "markdown",
   "metadata": {},
   "source": [
    "### Resultados:\n",
    "\n",
    "Nesta seção será demonstrado o caminho encontrado pelo algoritmo, bem como os resultados referentes para:\n",
    "\n",
    "- O tamanho da populacao\n",
    "- A taxa de mutacao \n",
    "- O número de cidades \n",
    "- O melhor custo \n",
    "- A melhor solução\n"
   ]
  },
  {
   "cell_type": "code",
   "execution_count": 27,
   "metadata": {},
   "outputs": [
    {
     "name": "stdout",
     "output_type": "stream",
     "text": [
      "\n",
      "([15, 2, 10, 6, 0, 5, 7, 13, 14, 1, 12, 16, 19, 4, 8, 11, 18, 3, 17, 9], 9.021279631529943)\n",
      "([0, 5, 16, 19, 9, 17, 11, 15, 7, 18, 14, 1, 4, 2, 12, 3, 13, 10, 8, 6], 9.021279631529943)\n",
      "([0, 5, 16, 19, 9, 17, 11, 15, 7, 18, 14, 1, 4, 2, 12, 3, 13, 10, 8, 6], 9.69623748576032)\n",
      "([15, 2, 10, 6, 0, 5, 7, 13, 14, 1, 12, 16, 19, 4, 8, 11, 18, 3, 17, 9], 9.69623748576032)\n",
      "([3, 14, 15, 11, 0, 8, 18, 9, 12, 13, 5, 10, 6, 2, 4, 17, 19, 16, 1, 7], 9.821470547967488)\n",
      "([3, 14, 15, 11, 0, 8, 18, 9, 12, 13, 5, 10, 6, 2, 4, 17, 19, 16, 1, 7], 9.852124771635031)\n",
      "([12, 13, 0, 6, 10, 8, 16, 17, 1, 2, 15, 18, 3, 11, 14, 4, 7, 5, 9, 19], 9.88652388970349)\n",
      "([0, 5, 16, 19, 9, 17, 11, 15, 7, 18, 14, 1, 4, 2, 12, 3, 13, 10, 8, 6], 9.994016697489723)\n",
      "([0, 5, 16, 19, 9, 17, 11, 15, 7, 18, 14, 1, 4, 2, 12, 3, 13, 10, 8, 6], 9.994016697489723)\n",
      "([0, 5, 16, 19, 9, 17, 11, 15, 7, 18, 14, 1, 4, 2, 12, 3, 13, 10, 8, 6], 9.994016697489723)\n",
      "([15, 2, 10, 6, 0, 5, 7, 13, 14, 1, 12, 16, 19, 4, 8, 11, 18, 3, 17, 9], 9.994016697489723)\n",
      "([0, 5, 16, 19, 9, 17, 11, 15, 7, 18, 14, 1, 4, 2, 12, 3, 13, 10, 8, 6], 9.994016697489723)\n",
      "([15, 2, 10, 6, 0, 5, 7, 13, 14, 1, 12, 16, 19, 4, 8, 11, 18, 3, 17, 9], 10.037081015931985)\n",
      "([15, 2, 10, 6, 0, 5, 7, 13, 14, 1, 12, 16, 19, 4, 8, 11, 18, 3, 17, 9], 10.154703733188915)\n",
      "([8, 11, 16, 0, 10, 3, 14, 4, 15, 1, 9, 17, 5, 18, 2, 7, 13, 19, 6, 12], 10.159820148100023)\n",
      "([8, 11, 16, 0, 10, 3, 14, 4, 15, 1, 9, 17, 5, 18, 2, 7, 13, 19, 6, 12], 10.159820148100023)\n",
      "([8, 11, 16, 0, 10, 3, 14, 4, 15, 1, 9, 17, 5, 18, 2, 7, 13, 19, 6, 12], 10.159820148100023)\n",
      "([0, 5, 16, 19, 9, 17, 11, 15, 7, 18, 14, 1, 4, 2, 12, 3, 13, 10, 8, 6], 10.197184063852575)\n",
      "([0, 5, 16, 19, 9, 17, 11, 15, 7, 18, 14, 1, 4, 2, 12, 3, 13, 10, 8, 6], 10.619022448224287)\n",
      "([12, 13, 0, 6, 10, 8, 16, 17, 1, 2, 15, 18, 3, 11, 14, 4, 7, 5, 9, 19], 10.758772342544987)\n"
     ]
    },
    {
     "ename": "TypeError",
     "evalue": "cannot unpack non-iterable int object",
     "output_type": "error",
     "traceback": [
      "\u001b[0;31m---------------------------------------------------------------------------\u001b[0m",
      "\u001b[0;31mTypeError\u001b[0m                                 Traceback (most recent call last)",
      "\u001b[0;32m<ipython-input-27-0e08718b703e>\u001b[0m in \u001b[0;36m<module>\u001b[0;34m\u001b[0m\n\u001b[1;32m      7\u001b[0m \u001b[0;31m# repetições\u001b[0m\u001b[0;34m\u001b[0m\u001b[0;34m\u001b[0m\u001b[0;34m\u001b[0m\u001b[0m\n\u001b[1;32m      8\u001b[0m \u001b[0;32mfor\u001b[0m \u001b[0mi\u001b[0m \u001b[0;32min\u001b[0m \u001b[0mrange\u001b[0m\u001b[0;34m(\u001b[0m\u001b[0;36m10000\u001b[0m\u001b[0;34m)\u001b[0m\u001b[0;34m:\u001b[0m\u001b[0;34m\u001b[0m\u001b[0;34m\u001b[0m\u001b[0m\n\u001b[0;32m----> 9\u001b[0;31m     \u001b[0mpopulaca\u001b[0m\u001b[0;34m,\u001b[0m \u001b[0mqtdPopulacaoGerada\u001b[0m\u001b[0;34m,\u001b[0m \u001b[0mmutacoes\u001b[0m \u001b[0;34m=\u001b[0m \u001b[0mgerar_geracao\u001b[0m\u001b[0;34m(\u001b[0m\u001b[0mpopulacao\u001b[0m\u001b[0;34m)\u001b[0m\u001b[0;34m\u001b[0m\u001b[0;34m\u001b[0m\u001b[0m\n\u001b[0m\u001b[1;32m     10\u001b[0m     \u001b[0mqtdMutacoes\u001b[0m \u001b[0;34m+=\u001b[0m \u001b[0mmutacoes\u001b[0m\u001b[0;34m\u001b[0m\u001b[0;34m\u001b[0m\u001b[0m\n\u001b[1;32m     11\u001b[0m     \u001b[0mpop_g\u001b[0m \u001b[0;34m+=\u001b[0m \u001b[0mqtdPopulacaoGerada\u001b[0m\u001b[0;34m\u001b[0m\u001b[0;34m\u001b[0m\u001b[0m\n",
      "\u001b[0;32m<ipython-input-24-77e4be122d08>\u001b[0m in \u001b[0;36mgerar_geracao\u001b[0;34m(populacao)\u001b[0m\n\u001b[1;32m     85\u001b[0m         \u001b[0mpm\u001b[0m \u001b[0;34m=\u001b[0m \u001b[0mrandom\u001b[0m\u001b[0;34m.\u001b[0m\u001b[0mrandint\u001b[0m\u001b[0;34m(\u001b[0m\u001b[0;36m1\u001b[0m\u001b[0;34m,\u001b[0m \u001b[0;36m100\u001b[0m\u001b[0;34m)\u001b[0m\u001b[0;34m\u001b[0m\u001b[0;34m\u001b[0m\u001b[0m\n\u001b[1;32m     86\u001b[0m         \u001b[0;32mif\u001b[0m \u001b[0mpm\u001b[0m \u001b[0;34m<=\u001b[0m \u001b[0;36m5\u001b[0m\u001b[0;34m:\u001b[0m\u001b[0;34m\u001b[0m\u001b[0;34m\u001b[0m\u001b[0m\n\u001b[0;32m---> 87\u001b[0;31m             \u001b[0mfilho_a\u001b[0m \u001b[0;34m=\u001b[0m \u001b[0mmutacao\u001b[0m\u001b[0;34m(\u001b[0m\u001b[0mfilho_a\u001b[0m\u001b[0;34m)\u001b[0m\u001b[0;34m\u001b[0m\u001b[0;34m\u001b[0m\u001b[0m\n\u001b[0m\u001b[1;32m     88\u001b[0m             \u001b[0mqtdMutacoes\u001b[0m \u001b[0;34m+=\u001b[0m \u001b[0;36m1\u001b[0m\u001b[0;34m\u001b[0m\u001b[0;34m\u001b[0m\u001b[0m\n\u001b[1;32m     89\u001b[0m \u001b[0;34m\u001b[0m\u001b[0m\n",
      "\u001b[0;32m<ipython-input-24-77e4be122d08>\u001b[0m in \u001b[0;36mmutacao\u001b[0;34m(filho)\u001b[0m\n\u001b[1;32m     60\u001b[0m \u001b[0;34m\u001b[0m\u001b[0m\n\u001b[1;32m     61\u001b[0m     \u001b[0maux\u001b[0m \u001b[0;34m=\u001b[0m \u001b[0mfilho\u001b[0m\u001b[0;34m[\u001b[0m\u001b[0mindex_1\u001b[0m\u001b[0;34m]\u001b[0m\u001b[0;34m\u001b[0m\u001b[0;34m\u001b[0m\u001b[0m\n\u001b[0;32m---> 62\u001b[0;31m     \u001b[0;34m[\u001b[0m\u001b[0mindex_1\u001b[0m\u001b[0;34m]\u001b[0m \u001b[0;34m=\u001b[0m \u001b[0mfilho\u001b[0m\u001b[0;34m[\u001b[0m\u001b[0mindex_2\u001b[0m\u001b[0;34m]\u001b[0m\u001b[0;34m\u001b[0m\u001b[0;34m\u001b[0m\u001b[0m\n\u001b[0m\u001b[1;32m     63\u001b[0m     \u001b[0mfilho\u001b[0m\u001b[0;34m[\u001b[0m\u001b[0mindex_2\u001b[0m\u001b[0;34m]\u001b[0m \u001b[0;34m=\u001b[0m \u001b[0maux\u001b[0m\u001b[0;34m\u001b[0m\u001b[0;34m\u001b[0m\u001b[0m\n\u001b[1;32m     64\u001b[0m \u001b[0;34m\u001b[0m\u001b[0m\n",
      "\u001b[0;31mTypeError\u001b[0m: cannot unpack non-iterable int object"
     ]
    }
   ],
   "source": [
    "print()\n",
    "for i in populacao:\n",
    "    print(i)\n",
    "\n",
    "qtdMutacoes, pop_g = 0, 0\n",
    "# Aplica o algoritmo genético com o critério de parada de 10000 repetições\n",
    "for i in range(10000):\n",
    "    populacao, qtdPopulacaoGerada, mutacoes = gerar_geracao(populacao)\n",
    "    qtdMutacoes += mutacoes\n",
    "    pop_g += qtdPopulacaoGerada\n",
    "\n",
    "print()\n",
    "for i in populacao:\n",
    "    print(i)\n",
    "\n",
    "print(\"Populacao inicial: \" + str(len(populacao)))\n",
    "print(\"Populacao gerada: \" + str(pop_g))\n",
    "print(\"Tamanho da população: \" + str(len(populacao) + pop_g))\n",
    "print(\"Taxa de mutação: \" + str((qtdMutacoes/pop_g)*100) + \"%\")\n",
    "print(\"Numero de cidades: \" + str(len(populacao[0][0])))\n",
    "print(\"Melhor custo: \" + str(populacao[0][1]))\n",
    "print(\"Melhor solução: \" + str(populacao[0][0]))\n",
    "\n",
    "#plotar\n",
    "cord_x = []\n",
    "cord_y = []\n",
    "for city in populacao[0][0]:\n",
    "    cord_x.append(coordenadas['x'][city])\n",
    "    cord_y.append(coordenadas['y'][city])\n",
    "\n",
    "ax = plt.subplot(111)\n",
    "ax.set_xlabel(\"Coordenada X\", fontsize = 10)\n",
    "ax.set_ylabel(\"Coordenada Y\", fontsize = 10)\n",
    "ax.set_title(\"Percurso das cidades\", fontsize = 15)\n",
    "ax.scatter(cord_x, cord_y, s = 30, color = \"black\", marker = \"X\")\n",
    "\n",
    "\n",
    "cord_x.append(cord_x[0])\n",
    "cord_y.append(cord_y[0])\n",
    "\n",
    "# Liga as cidades\n",
    "plt.plot(cord_x, cord_y, color = \"purple\", linestyle=\"solid\", linewidth=1)\n",
    "\n",
    "# Exibe o nome das cidades no gráfico\n",
    "for index, city in enumerate(populacao[0][0]):\n",
    "    ax.annotate(city, (cord_x[index], cord_y[index]), color=\"r\")\n",
    "\n",
    "plt.show()"
   ]
  }
 ],
 "metadata": {
  "kernelspec": {
   "display_name": "Python 3",
   "language": "python",
   "name": "python3"
  },
  "language_info": {
   "codemirror_mode": {
    "name": "ipython",
    "version": 3
   },
   "file_extension": ".py",
   "mimetype": "text/x-python",
   "name": "python",
   "nbconvert_exporter": "python",
   "pygments_lexer": "ipython3",
   "version": "3.7.3"
  }
 },
 "nbformat": 4,
 "nbformat_minor": 2
}
