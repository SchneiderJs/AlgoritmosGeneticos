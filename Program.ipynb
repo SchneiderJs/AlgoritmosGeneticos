{
 "cells": [
  {
   "cell_type": "markdown",
   "metadata": {},
   "source": [
    "# Algoritmos Genéticos\n",
    "\n",
    "#### Alunos: Arthur Bizon, Gabriel Schneider e Luciane Tedesco"
   ]
  },
  {
   "cell_type": "markdown",
   "metadata": {},
   "source": [
    "Este trabalho discute a implementação do algoritmo genético baseado no caso do Caixeiro Viajante.\n",
    "\n",
    "Assumimos que há um caixeiro-viajante que precisa visitar n cidades através do caminho mais curto\n",
    "possível. Ele visita cada cidade exatamente uma vez, em seguida, retorna para a cidade onde ele\n",
    "começou. Portanto, uma solução seria uma lista de todas as cidades na ordem que ele as visita: como\n",
    "Cidade 1, Cidade 2,..., Cidade n; onde a cidade 1 é o seu estado inicial. Assim, os cromossomos para o\n",
    "algoritmo genético serão diferentes permutações dos números inteiros de 1 a n."
   ]
  },
  {
   "cell_type": "markdown",
   "metadata": {},
   "source": [
    "<img src=\"Images/Alg-Geneticos.png\">"
   ]
  },
  {
   "cell_type": "markdown",
   "metadata": {},
   "source": [
    "Há muitas variações do problema caixeiro-viajante, mas para este trabalho faremos as seguintes\n",
    "suposições:\n",
    "- Cidades: Representadas por cromossomos, são números inteiros de 1 a 20.\n",
    "- As n cidades serão listados na ordem c1 → c2 → ... → cn num dado cromossomo. \n",
    "- Coordenadas: Consideramos 20 cidades com coordenadas representadas por números aleatórios entre (0,0) e (1,1) em um plano cartesiano.\n",
    "- Partindo do princípio que estamos tentando minimizar a distância total que o caixeiro viajante percorre, a função de aptdão será a distância total D:\n",
    "<img src=\"Images/D1.png\" width=300 align=\"left\" >    \n"
   ]
  },
  {
   "cell_type": "markdown",
   "metadata": {},
   "source": [
    "- A cidade n+1 = Cidade 1 (estado inicial). Se (xi, yi) são as coordenadas da cidade ci, logo, a função de aptidão (fitness) é dada pela distância euclidiana:\n",
    "<img src=\"Images/D2.png\" width=300 align=\"left\"> "
   ]
  },
  {
   "cell_type": "markdown",
   "metadata": {},
   "source": [
    "- Assumimos que a distância d da cidade ci para a cidade cj é: d (ci, cj) = d (cj, ci) para todo i ∈\n",
    "[1, n] e j ∈ [1, n]. \n",
    "- O tamanho da população é 20 e o número de interações é 10.000.\n",
    "- Para construir as gerações subsequentes, mantemos a metade da população atual e geramos a outra metade da nova geração por meio da seleção e do crossover, mantendo apenas parte da população.\n",
    "- Para determinar a distribuição do conjunto de cromossomos que serão escolhidos para a reprodução, calculamos a probabilidade, na qual distribuimos os valores inversamente (visto que organizamos os cromossomos em ordem crescente do mais apto ao menos apto).\n",
    "- Para selecionar os cromossomo, utilizamos o método da roleta.\n",
    "- Como no nosso caso o agente visita somente uma vez cada cidade, utilizaremos para fazer a Recombinação (crossover) a técnica de “cycle” (exemplo na Figura 1), onde:\n",
    "\n",
    "        - Escolhemos um local aleatório dentro do cromossomo.\n",
    "        \n",
    "        - Passo 1: Os dois cromossomos pais trocam os números inteiros neste local para gerar os descendentes.\n",
    "          A menos que os números trocados tenham o mesmo valor, cada descendente terá um número duplicado.\n",
    "          \n",
    "        - Passo 2: Em seguida, mudamos o número duplicado da primeira descendência com o mesmo local do número \n",
    "          da segunda descendência.\n",
    "          \n",
    "        - Passo 3 e 4: Isto significa que temos agora outro número duplicado então, repitiremos este processo \n",
    "          até não terem mais números duplicados.\n",
    "\n",
    "Exemplo de Recombinação Cycle:\n",
    "<img src=\"Images/Cycle.png\"> \n",
    "\n",
    "- O operador de mutação escolhe aleatoriamente dois números inteiros em um cromossomo da nova geração e os troca. O operador de mutação atua sobre cada membro da nova geração com probabilidade de 0,05"
   ]
  },
  {
   "cell_type": "markdown",
   "metadata": {},
   "source": [
    "### Desenvolvimento:\n",
    "\n",
    "Nesta sessão será demonstrado o passo a passo para a solução do problema proposto, incluindo:\n",
    "- A definição da função de aptidão  \n",
    "- A definição das coordenadas para as 20 cidades\n",
    "- A geração da população inicial\n",
    "- A criação da Roleta\n",
    "- A obtenção das próximas gerações\n",
    "\n",
    "[Aqui](Documentacao.html) você encontra a documentação dos métodos criados.\n"
   ]
  },
  {
   "cell_type": "markdown",
   "metadata": {},
   "source": [
    "#### Definição da função de aptidão:"
   ]
  },
  {
   "cell_type": "markdown",
   "metadata": {},
   "source": [
    "Nesta seção é definida a função de aptidão, dada pela formula da distância eulidiana. Esta função por sua vez será utilizada para obter as distancias entre todas as ciades (matriz de adjacência) e com isto, a distancia total de um caminho."
   ]
  },
  {
   "cell_type": "code",
   "execution_count": 1,
   "metadata": {},
   "outputs": [],
   "source": [
    "import random\n",
    "from math import sqrt\n",
    "import matplotlib.pyplot as plt\n",
    "\n",
    "distancia_euclidiana = lambda p1, p2: sqrt(pow(coordenadas['x'][p2]-coordenadas['x'][p1], 2) \n",
    "                                           + pow(coordenadas['y'][p2]-coordenadas['y'][p1], 2))\n",
    "\n",
    "# Esta função calcula as distâncias entre todas as cidades.\n",
    "# Retorna uma lista contendo a distância de qualquer ponto até qualquer outro ponto.\n",
    "def obter_distancias():\n",
    "    distancias = []\n",
    "    for i in range(20):\n",
    "        aux = []\n",
    "        for j in range(20):\n",
    "            aux.append(distancia_euclidiana(i, j))\n",
    "        distancias.append(aux)\n",
    "\n",
    "    return distancias\n",
    "\n",
    "\n",
    "# Esta função calcula a distância para se percorer as cidades indicadas pelo cromossomo.\n",
    "# Retorna o custo total para passar por todas as cidades e retornar a origem.\n",
    "def obter_distancia_total(cromossomo, distancias):\n",
    "    x = 0\n",
    "    for i in range(len(cromossomo)-1):\n",
    "        x += distancias[cromossomo[i]][cromossomo[i+1]]\n",
    "    # Adiciona a distância para retornar a cidade inicial\n",
    "    x += distancias[cromossomo[-1]][cromossomo[0]]\n",
    "\n",
    "    return x"
   ]
  },
  {
   "cell_type": "markdown",
   "metadata": {},
   "source": [
    "#### Definição das coordenadas para as 20 cidades:"
   ]
  },
  {
   "cell_type": "markdown",
   "metadata": {},
   "source": [
    "Nesta seção, é gerada as coordenadas x e y para todas as 20 cidades, propostas pelo problema. "
   ]
  },
  {
   "cell_type": "code",
   "execution_count": 2,
   "metadata": {},
   "outputs": [
    {
     "name": "stdout",
     "output_type": "stream",
     "text": [
      "x: 0.33 y: 0.8\n",
      "x: 0.37 y: 0.61\n",
      "x: 0.79 y: 0.98\n",
      "x: 0.7 y: 0.33\n",
      "x: 0.35 y: 0.59\n",
      "x: 0.08 y: 0.04\n",
      "x: 0.02 y: 0.46\n",
      "x: 0.65 y: 0.21\n",
      "x: 0.89 y: 0.49\n",
      "x: 0.5 y: 0.0\n",
      "x: 0.1 y: 0.96\n",
      "x: 0.54 y: 0.9\n",
      "x: 0.19 y: 0.86\n",
      "x: 0.52 y: 0.68\n",
      "x: 0.76 y: 0.65\n",
      "x: 0.24 y: 0.84\n",
      "x: 0.91 y: 0.1\n",
      "x: 0.31 y: 0.32\n",
      "x: 0.34 y: 0.06\n",
      "x: 0.84 y: 0.01\n"
     ]
    }
   ],
   "source": [
    "# Esta função gera um cromossomo com a ordem que as cidades devem ser percorridas e a distância total do percurso.\n",
    "# Retorna uma tuple onde o primeiro elemento é a ordem em que as cidades devem ser percorridas e o segundo \n",
    "# elemento é a distância total do caminho.\n",
    "def gerar_cromossomo(distancias):\n",
    "    # Lista aleatória sem números duplicados\n",
    "    cromossomo = random.sample(range(20), 20)\n",
    "    distancia = obter_distancia_total(cromossomo, distancias)\n",
    "    return (cromossomo, distancia)\n",
    "\n",
    "# Criação das coordenadas das cidades\n",
    "random_int_x = random.sample(range(0, 100), 20) # coordenada x\n",
    "random_int_y = random.sample(range(0, 100), 20) # coordenada y\n",
    "\n",
    "# dicionario de coordenadas\n",
    "coordenadas = {'x': [x/100 for x in random_int_x], 'y': [y/100 for y in random_int_y]} \n",
    "\n",
    "for cx, cy in zip(coordenadas['x'], coordenadas['y']):\n",
    "    print(\"x: \" + str(cx) + \" y: \" + str(cy))"
   ]
  },
  {
   "cell_type": "markdown",
   "metadata": {},
   "source": [
    "#### Geração da população inicial:"
   ]
  },
  {
   "cell_type": "markdown",
   "metadata": {},
   "source": [
    "Nesta seção, é gerada a primeira população, contendo seus cromossomos com suas respectivas distâncias"
   ]
  },
  {
   "cell_type": "code",
   "execution_count": 3,
   "metadata": {},
   "outputs": [
    {
     "name": "stdout",
     "output_type": "stream",
     "text": [
      "([7, 3, 18, 1, 12, 11, 2, 9, 19, 16, 13, 8, 5, 14, 6, 15, 0, 10, 4, 17], 9.143391865155658)\n",
      "([6, 7, 14, 2, 12, 17, 10, 13, 1, 5, 4, 15, 0, 11, 18, 9, 16, 3, 19, 8], 9.298297659390663)\n",
      "([14, 10, 15, 17, 0, 16, 19, 4, 7, 5, 12, 1, 3, 18, 9, 6, 11, 2, 13, 8], 9.603250385854336)\n",
      "([13, 6, 11, 14, 17, 1, 15, 12, 9, 16, 8, 19, 2, 3, 7, 4, 0, 18, 5, 10], 9.820387676552)\n",
      "([1, 19, 8, 9, 16, 17, 18, 6, 13, 11, 5, 3, 0, 2, 14, 12, 7, 4, 15, 10], 10.343968513014154)\n",
      "([18, 6, 17, 13, 19, 14, 1, 11, 16, 8, 4, 15, 10, 2, 3, 7, 0, 5, 12, 9], 10.50549701444113)\n",
      "([5, 0, 3, 10, 7, 14, 16, 2, 12, 8, 1, 13, 4, 18, 9, 19, 11, 15, 6, 17], 10.814988570610199)\n",
      "([17, 4, 9, 8, 13, 11, 10, 15, 14, 19, 5, 2, 18, 1, 7, 12, 6, 0, 16, 3], 11.275400212883385)\n",
      "([0, 13, 6, 1, 2, 5, 19, 8, 15, 3, 9, 4, 18, 16, 10, 14, 17, 7, 11, 12], 11.683150528234675)\n",
      "([11, 18, 2, 8, 5, 12, 14, 15, 16, 7, 1, 0, 6, 10, 9, 19, 4, 3, 17, 13], 11.835461495812721)\n",
      "([10, 15, 5, 11, 7, 12, 3, 16, 17, 0, 1, 13, 18, 2, 8, 6, 14, 19, 9, 4], 11.84151133608181)\n",
      "([18, 0, 5, 3, 1, 7, 14, 4, 17, 8, 12, 2, 13, 10, 9, 6, 19, 16, 11, 15], 11.930892863932758)\n",
      "([6, 12, 19, 13, 10, 14, 11, 3, 4, 7, 0, 5, 15, 2, 9, 16, 18, 17, 8, 1], 11.976970334399851)\n",
      "([19, 0, 4, 10, 11, 6, 3, 5, 1, 7, 8, 9, 2, 13, 16, 14, 15, 17, 18, 12], 12.141338109713438)\n",
      "([2, 15, 16, 4, 6, 17, 18, 7, 12, 14, 11, 8, 13, 19, 1, 9, 10, 5, 3, 0], 12.149671497691722)\n",
      "([2, 1, 19, 13, 11, 8, 16, 15, 9, 14, 7, 10, 3, 12, 0, 18, 17, 5, 4, 6], 12.194631807473764)\n",
      "([14, 3, 13, 16, 15, 0, 19, 11, 2, 6, 17, 5, 10, 8, 7, 4, 9, 12, 18, 1], 12.242467960561545)\n",
      "([14, 13, 0, 5, 19, 10, 9, 15, 18, 4, 11, 6, 2, 17, 16, 1, 12, 8, 7, 3], 12.563251476602662)\n",
      "([15, 13, 6, 10, 7, 2, 16, 11, 14, 17, 0, 5, 1, 19, 18, 8, 12, 9, 4, 3], 13.068726323533614)\n",
      "([17, 9, 15, 0, 19, 2, 18, 8, 10, 6, 13, 7, 11, 5, 3, 4, 1, 16, 12, 14], 13.221292287252632)\n"
     ]
    }
   ],
   "source": [
    "# Criação da matriz de adjacências\n",
    "distancias  = obter_distancias()  # matrix de adjacência\n",
    "populacao = [gerar_cromossomo(distancias) for i in range(20)] # todos os cromossomos com a distância total do caminho\n",
    "\n",
    "# Ordenar a população\n",
    "populacao = sorted(populacao, key= lambda s: s[1])\n",
    "\n",
    "for p in populacao:\n",
    "    print(p)"
   ]
  },
  {
   "cell_type": "markdown",
   "metadata": {},
   "source": [
    "#### Criação da Roleta:"
   ]
  },
  {
   "cell_type": "markdown",
   "metadata": {},
   "source": [
    "Nesta seção é gerada a roleta, ela contém elementos que poderão ser selecionados, com probabilidades decrescentes de acordo com sua aptidão."
   ]
  },
  {
   "cell_type": "code",
   "execution_count": 4,
   "metadata": {},
   "outputs": [],
   "source": [
    "# Geração dos elementos da roleta\n",
    "roleta = []\n",
    "for i in range(10):\n",
    "    roleta += [(i)]*(10-i) "
   ]
  },
  {
   "cell_type": "code",
   "execution_count": 5,
   "metadata": {},
   "outputs": [
    {
     "name": "stdout",
     "output_type": "stream",
     "text": [
      "0 [0, 1, 2, 3, 4, 5, 6, 7, 8, 9]\n",
      "1 [10, 11, 12, 13, 14, 15, 16, 17, 18]\n",
      "2 [19, 20, 21, 22, 23, 24, 25, 26]\n",
      "3 [27, 28, 29, 30, 31, 32, 33]\n",
      "4 [34, 35, 36, 37, 38, 39]\n",
      "5 [40, 41, 42, 43, 44]\n",
      "6 [45, 46, 47, 48]\n",
      "7 [49, 50, 51]\n",
      "8 [52, 53]\n"
     ]
    }
   ],
   "source": [
    "from collections import defaultdict\n",
    "\n",
    "# Exibir a roleta\n",
    "# Define o objeto que armazenará os índices de cada elemento:\n",
    "keys = defaultdict(list);\n",
    "\n",
    "# Percorre todos os elementos da lista:\n",
    "for key, value in enumerate(roleta):\n",
    "    \n",
    "    # Adiciona o índice do valor na lista de índices:\n",
    "    keys[value].append(key)\n",
    "\n",
    "# Exibe o resultado:\n",
    "for value in keys:\n",
    "    if len(keys[value]) > 1:\n",
    "        print(value, keys[value])"
   ]
  },
  {
   "cell_type": "markdown",
   "metadata": {},
   "source": [
    "#### Obtenção das próximas gerações:"
   ]
  },
  {
   "cell_type": "markdown",
   "metadata": {},
   "source": [
    "Nesta sessão será gerada as próximas gerações, utilizando o método cycle e mutações."
   ]
  },
  {
   "cell_type": "code",
   "execution_count": 6,
   "metadata": {},
   "outputs": [],
   "source": [
    "# Esta função faz o cruzamento entre o pai \"a\" e \"b\".\n",
    "# Retorna uma lista contendo dois novos cromossomos.\n",
    "def cycle(paiA, paiB):\n",
    "\n",
    "    # Esta função realiza a troca dos genes do pai \"a\" e \"b\" indicados pelo indice.\n",
    "    def trocar(index):\n",
    "        aux = paiA[index]\n",
    "        paiA[index] = paiB[index]\n",
    "        paiB[index] = aux\n",
    "\n",
    "    # Esta função verifica se o cromossomo pai \"a\" possui genes duplicados.\n",
    "    def verificar_duplicados():\n",
    "        for i in range(len(paiA) - 1):\n",
    "            for j in range(i + 1, len(paiA)):\n",
    "                if paiA[i] == paiA[j]:\n",
    "                    return True\n",
    "        return False\n",
    "\n",
    "    # Esta função escolhe aleatoriamente um gene para ser trocado entre o pai \"a\" e \"b\" e realiza a troca.\n",
    "    # Retorna o índice do gene que foi efetuado a troca.\n",
    "    def passo1():\n",
    "        index = random.choice(list(range(20)))\n",
    "        trocar(index)\n",
    "        return index\n",
    "\n",
    "    # Esta função realiza uma troca de genes entre os cromossomos pai \"a\" e \"b\", o índice da troca é definido\n",
    "    # pelo gene repetido no pai \"a\".\n",
    "    # Retorna o índice do gene que foi efetuado a troca.\n",
    "    def passo2(index):\n",
    "        if paiA[index] == paiB[index]:\n",
    "            return\n",
    "        for idx, a in enumerate(paiA):\n",
    "            if paiA[index] == a and idx != index:\n",
    "                trocar(idx)\n",
    "                index = idx\n",
    "                break\n",
    "        return idx\n",
    "\n",
    "    # Esta função realiza a troca de genes até que o cromossomo pai \"a\" não possua mais genes repetidos.\n",
    "    # Retorna dois novos cromossomos que surgiram a partir do cruzamento do pai \"a\" e \"b\". \n",
    "    def passo3(index):\n",
    "    # Enquanto o pai \"a\" tiver genes repetidos, troca genes com o pai \"b\"\n",
    "        while verificar_duplicados():\n",
    "            index = passo2(index)\n",
    "        return paiA, paiB\n",
    "\n",
    "    idx = passo1()\n",
    "    idx = passo2(idx)\n",
    "    return passo3(idx)\n",
    "\n",
    "\n",
    "# Esta função realiza a mutação no cromossomo filho. A mutação consiste em inverter o valores de dois índices \n",
    "# selecionados aleatoriamente.\n",
    "# Retorna o cromossomo mutado\n",
    "def mutacao(filho):\n",
    "    # Escolhe dois genes para inverter no cromossomo\n",
    "    lista = list(range(19))\n",
    "    index_1 = random.choice(lista)\n",
    "    lista.remove(index_1)\n",
    "    index_2 = random.choice(lista)\n",
    "\n",
    "    aux = filho[index_1]\n",
    "    filho[index_1] = filho[index_2]\n",
    "    filho[index_2] = aux\n",
    "\n",
    "    return filho\n",
    "\n",
    "# Está função realiza a execução do algoritmo genético a partir de uma população passada por parâmetro.\n",
    "# Retorna uma lista com a nova população, a quantidade de individuos gerados e a quantidade dos individuos\n",
    "# que foram mutados.\n",
    "def gerar_geracao(populacao):\n",
    "    qtdMutacoes = 0\n",
    "    populacao_gerada = 0\n",
    "\n",
    "    # Roleta - Sortear\n",
    "    sorteadosA = [random.choice(roleta) for i in range(5)]\n",
    "    sorteadosB = [random.choice(roleta) for i in range(5)]\n",
    "\n",
    "    filhos = []\n",
    "    for paiA, paiB in zip(sorteadosA, sorteadosB):\n",
    "        # Realiza o cruzamento\n",
    "        filho_a, filho_b = cycle(populacao[paiA][0], populacao[paiB][0])\n",
    "\n",
    "        populacao_gerada += 2\n",
    "\n",
    "        # Aplica mutação se pm for menor ou igual a 5\n",
    "        pm = random.randint(1, 100)\n",
    "        if pm <= 5:\n",
    "            filho_a = mutacao(filho_a)\n",
    "            qtdMutacoes += 1\n",
    "\n",
    "        pm = random.randint(1, 100)\n",
    "        if pm <= 5:\n",
    "            filho_b = mutacao(filho_b)\n",
    "            qtdMutacoes += 1\n",
    "\n",
    "        # Encapsula os cromossomos em uma tupla\n",
    "        filho_a = (filho_a, obter_distancia_total(filho_a, distancias))\n",
    "        filho_b = (filho_b, obter_distancia_total(filho_b, distancias))\n",
    "\n",
    "        filhos.append(filho_a)\n",
    "        filhos.append(filho_b)\n",
    "\n",
    "    # Substitui os 10 últimos cromossomos pelos 10 novos filhos\n",
    "    populacao = populacao[:10]\n",
    "    for f in filhos:\n",
    "        populacao.append(f)\n",
    "\n",
    "    # Ordena a população com os novos cromossomos\n",
    "    populacao = sorted(populacao, key= lambda s: s[1])\n",
    "\n",
    "    return populacao, populacao_gerada, qtdMutacoes"
   ]
  },
  {
   "cell_type": "code",
   "execution_count": 7,
   "metadata": {},
   "outputs": [
    {
     "name": "stdout",
     "output_type": "stream",
     "text": [
      "Populacao inicial:\n",
      "([7, 3, 18, 1, 12, 11, 2, 9, 19, 16, 13, 8, 5, 14, 6, 15, 0, 10, 4, 17], 9.143391865155658)\n",
      "([6, 7, 14, 2, 12, 17, 10, 13, 1, 5, 4, 15, 0, 11, 18, 9, 16, 3, 19, 8], 9.298297659390663)\n",
      "([14, 10, 15, 17, 0, 16, 19, 4, 7, 5, 12, 1, 3, 18, 9, 6, 11, 2, 13, 8], 9.603250385854336)\n",
      "([13, 6, 11, 14, 17, 1, 15, 12, 9, 16, 8, 19, 2, 3, 7, 4, 0, 18, 5, 10], 9.820387676552)\n",
      "([1, 19, 8, 9, 16, 17, 18, 6, 13, 11, 5, 3, 0, 2, 14, 12, 7, 4, 15, 10], 10.343968513014154)\n",
      "([18, 6, 17, 13, 19, 14, 1, 11, 16, 8, 4, 15, 10, 2, 3, 7, 0, 5, 12, 9], 10.50549701444113)\n",
      "([5, 0, 3, 10, 7, 14, 16, 2, 12, 8, 1, 13, 4, 18, 9, 19, 11, 15, 6, 17], 10.814988570610199)\n",
      "([17, 4, 9, 8, 13, 11, 10, 15, 14, 19, 5, 2, 18, 1, 7, 12, 6, 0, 16, 3], 11.275400212883385)\n",
      "([0, 13, 6, 1, 2, 5, 19, 8, 15, 3, 9, 4, 18, 16, 10, 14, 17, 7, 11, 12], 11.683150528234675)\n",
      "([11, 18, 2, 8, 5, 12, 14, 15, 16, 7, 1, 0, 6, 10, 9, 19, 4, 3, 17, 13], 11.835461495812721)\n",
      "([10, 15, 5, 11, 7, 12, 3, 16, 17, 0, 1, 13, 18, 2, 8, 6, 14, 19, 9, 4], 11.84151133608181)\n",
      "([18, 0, 5, 3, 1, 7, 14, 4, 17, 8, 12, 2, 13, 10, 9, 6, 19, 16, 11, 15], 11.930892863932758)\n",
      "([6, 12, 19, 13, 10, 14, 11, 3, 4, 7, 0, 5, 15, 2, 9, 16, 18, 17, 8, 1], 11.976970334399851)\n",
      "([19, 0, 4, 10, 11, 6, 3, 5, 1, 7, 8, 9, 2, 13, 16, 14, 15, 17, 18, 12], 12.141338109713438)\n",
      "([2, 15, 16, 4, 6, 17, 18, 7, 12, 14, 11, 8, 13, 19, 1, 9, 10, 5, 3, 0], 12.149671497691722)\n",
      "([2, 1, 19, 13, 11, 8, 16, 15, 9, 14, 7, 10, 3, 12, 0, 18, 17, 5, 4, 6], 12.194631807473764)\n",
      "([14, 3, 13, 16, 15, 0, 19, 11, 2, 6, 17, 5, 10, 8, 7, 4, 9, 12, 18, 1], 12.242467960561545)\n",
      "([14, 13, 0, 5, 19, 10, 9, 15, 18, 4, 11, 6, 2, 17, 16, 1, 12, 8, 7, 3], 12.563251476602662)\n",
      "([15, 13, 6, 10, 7, 2, 16, 11, 14, 17, 0, 5, 1, 19, 18, 8, 12, 9, 4, 3], 13.068726323533614)\n",
      "([17, 9, 15, 0, 19, 2, 18, 8, 10, 6, 13, 7, 11, 5, 3, 4, 1, 16, 12, 14], 13.221292287252632)\n",
      "\n",
      "Populacao final:\n",
      "([16, 6, 5, 2, 14, 13, 9, 10, 17, 11, 15, 7, 4, 12, 1, 18, 0, 19, 3, 8], 7.217422561014897)\n",
      "([16, 6, 5, 2, 14, 13, 9, 10, 17, 11, 15, 7, 4, 12, 1, 18, 0, 19, 3, 8], 7.217422561014897)\n",
      "([16, 6, 5, 2, 14, 13, 9, 10, 17, 11, 15, 7, 4, 12, 1, 18, 0, 19, 3, 8], 7.217422561014897)\n",
      "([16, 6, 5, 2, 14, 13, 9, 10, 17, 11, 15, 7, 4, 12, 1, 18, 0, 19, 3, 8], 7.217422561014897)\n",
      "([16, 6, 5, 2, 14, 13, 9, 10, 17, 11, 15, 7, 4, 12, 1, 18, 0, 19, 3, 8], 7.217422561014897)\n",
      "([16, 6, 5, 2, 14, 13, 9, 10, 17, 11, 15, 7, 4, 12, 1, 18, 0, 19, 3, 8], 7.217422561014897)\n",
      "([16, 6, 5, 2, 14, 13, 9, 10, 17, 11, 15, 7, 4, 12, 1, 18, 0, 19, 3, 8], 7.65486831561384)\n",
      "([16, 6, 5, 2, 14, 13, 9, 10, 17, 11, 15, 7, 4, 12, 1, 18, 0, 19, 3, 8], 7.65486831561384)\n",
      "([16, 6, 5, 2, 14, 13, 9, 10, 17, 11, 15, 7, 4, 12, 1, 18, 0, 19, 3, 8], 7.65486831561384)\n",
      "([16, 6, 5, 2, 14, 13, 9, 10, 17, 11, 15, 7, 4, 12, 1, 18, 0, 19, 3, 8], 7.65486831561384)\n",
      "([16, 6, 5, 2, 14, 13, 9, 10, 17, 11, 15, 7, 4, 12, 1, 18, 0, 19, 3, 8], 11.536414031036127)\n",
      "([16, 6, 5, 2, 14, 13, 9, 10, 17, 11, 15, 7, 4, 12, 1, 18, 0, 19, 3, 8], 11.536414031036127)\n",
      "([16, 6, 5, 2, 14, 13, 9, 10, 17, 11, 15, 7, 4, 12, 1, 18, 0, 19, 3, 8], 11.536414031036127)\n",
      "([16, 6, 5, 2, 14, 13, 9, 10, 17, 11, 15, 7, 4, 12, 1, 18, 0, 19, 3, 8], 11.536414031036127)\n",
      "([16, 6, 5, 2, 14, 13, 9, 10, 17, 11, 15, 7, 4, 12, 1, 18, 0, 19, 3, 8], 11.536414031036127)\n",
      "([16, 6, 5, 2, 14, 13, 9, 10, 17, 11, 15, 7, 4, 12, 1, 18, 0, 19, 3, 8], 11.536414031036127)\n",
      "([16, 6, 5, 2, 14, 13, 9, 10, 17, 11, 15, 7, 4, 12, 1, 18, 0, 19, 3, 8], 11.536414031036127)\n",
      "([16, 6, 5, 2, 14, 13, 9, 10, 17, 11, 15, 7, 4, 12, 1, 18, 0, 19, 3, 8], 11.536414031036127)\n",
      "([16, 6, 5, 2, 14, 13, 9, 10, 17, 11, 15, 7, 4, 12, 1, 18, 0, 19, 3, 8], 11.536414031036127)\n",
      "([16, 6, 5, 2, 14, 13, 9, 10, 17, 11, 15, 7, 4, 12, 1, 18, 0, 19, 3, 8], 11.536414031036127)\n"
     ]
    }
   ],
   "source": [
    "print(\"Populacao inicial:\")\n",
    "for i in populacao:\n",
    "    print(i)\n",
    "\n",
    "qtdMutacoes, pop_g = 0, 0\n",
    "# Aplica o algoritmo genético com o critério de parada de 10000 repetições\n",
    "for i in range(10000):\n",
    "    populacao, qtdPopulacaoGerada, mutacoes = gerar_geracao(populacao)\n",
    "    qtdMutacoes += mutacoes\n",
    "    pop_g += qtdPopulacaoGerada\n",
    "\n",
    "print()\n",
    "print(\"Populacao final:\")\n",
    "for i in populacao:\n",
    "    print(i)"
   ]
  },
  {
   "cell_type": "markdown",
   "metadata": {},
   "source": [
    "### Resultados:\n",
    "\n",
    "Nesta seção será demonstrado o caminho encontrado pelo algoritmo, bem como os resultados referentes para:\n",
    "\n",
    "- O tamanho da populacao\n",
    "- A taxa de mutacao \n",
    "- O número de cidades \n",
    "- O melhor custo \n",
    "- A melhor solução\n"
   ]
  },
  {
   "cell_type": "code",
   "execution_count": 8,
   "metadata": {},
   "outputs": [
    {
     "name": "stdout",
     "output_type": "stream",
     "text": [
      "Populacao inicial: 20\n",
      "Populacao gerada: 100000\n",
      "Tamanho da população: 100020\n",
      "Taxa de mutação: 5.0889999999999995%\n",
      "Numero de cidades: 20\n",
      "Melhor custo: 7.217422561014897\n",
      "Melhor solução: [16, 6, 5, 2, 14, 13, 9, 10, 17, 11, 15, 7, 4, 12, 1, 18, 0, 19, 3, 8]\n"
     ]
    }
   ],
   "source": [
    "# exibir estatísticas\n",
    "print(\"Populacao inicial: \" + str(len(populacao)))\n",
    "print(\"Populacao gerada: \" + str(pop_g))\n",
    "print(\"Tamanho da população: \" + str(len(populacao) + pop_g))\n",
    "print(\"Taxa de mutação: \" + str((qtdMutacoes/pop_g)*100) + \"%\")\n",
    "print(\"Numero de cidades: \" + str(len(populacao[0][0])))\n",
    "print(\"Melhor custo: \" + str(populacao[0][1]))\n",
    "print(\"Melhor solução: \" + str(populacao[0][0]))"
   ]
  },
  {
   "cell_type": "code",
   "execution_count": 9,
   "metadata": {},
   "outputs": [
    {
     "data": {
      "image/png": "[encoded data removed]",
      "text/plain": [
       "<Figure size 432x288 with 1 Axes>"
      ]
     },
     "metadata": {
      "needs_background": "light"
     },
     "output_type": "display_data"
    }
   ],
   "source": [
    "#plotar percurso\n",
    "\n",
    "cord_x = []\n",
    "cord_y = []\n",
    "for city in populacao[0][0]:\n",
    "    cord_x.append(coordenadas['x'][city])\n",
    "    cord_y.append(coordenadas['y'][city])\n",
    "\n",
    "ax = plt.subplot(111)\n",
    "ax.set_xlabel(\"Coordenada X\", fontsize = 10)\n",
    "ax.set_ylabel(\"Coordenada Y\", fontsize = 10)\n",
    "ax.set_title(\"Percurso das cidades\", fontsize = 15)\n",
    "ax.scatter(cord_x, cord_y, s = 30, color = \"black\", marker = \"X\")\n",
    "\n",
    "cord_x.append(cord_x[0])\n",
    "cord_y.append(cord_y[0])\n",
    "\n",
    "# Liga as cidades\n",
    "plt.plot(cord_x, cord_y, color = \"purple\", linestyle=\"solid\", linewidth=1)\n",
    "\n",
    "# Exibe o nome das cidades no gráfico\n",
    "for index, city in enumerate(populacao[0][0]):\n",
    "    ax.annotate(city, (cord_x[index], cord_y[index]), color=\"r\")\n",
    "\n",
    "plt.show()"
   ]
  }
 ],
 "metadata": {
  "kernelspec": {
   "display_name": "Python 3",
   "language": "python",
   "name": "python3"
  },
  "language_info": {
   "codemirror_mode": {
    "name": "ipython",
    "version": 3
   },
   "file_extension": ".py",
   "mimetype": "text/x-python",
   "name": "python",
   "nbconvert_exporter": "python",
   "pygments_lexer": "ipython3",
   "version": "3.7.4"
  }
 },
 "nbformat": 4,
 "nbformat_minor": 2
}
