{
 "cells": [
  {
   "cell_type": "markdown",
   "metadata": {},
   "source": [
    "# Algoritmos Genéticos\n",
    "\n",
    "#### Alunos: Arthur Bizon, Gabriel Schneider e Luciane Tedesco"
   ]
  },
  {
   "cell_type": "markdown",
   "metadata": {},
   "source": [
    "Este trabalho discute a implementação do algoritmo genético baseado no caso do Caixeiro Viajante.\n",
    "\n",
    "Assumimos que há um caixeiro-viajante que precisa visitar n cidades através do caminho mais curto\n",
    "possível. Ele visita cada cidade exatamente uma vez, em seguida, retorna para a cidade onde ele\n",
    "começou. Portanto, uma solução seria uma lista de todas as cidades na ordem que ele as visita: como\n",
    "Cidade 1, Cidade 2,..., Cidade n; onde a cidade 1 é o seu estado inicial. Assim, os cromossomos para o\n",
    "algoritmo genético serão diferentes permutações dos números inteiros de 1 a n."
   ]
  },
  {
   "cell_type": "markdown",
   "metadata": {},
   "source": [
    "<img src=\"../Images/Alg-Geneticos.png\">"
   ]
  },
  {
   "cell_type": "markdown",
   "metadata": {},
   "source": [
    "Há muitas variações do problema caixeiro-viajante, mas para este trabalho faremos as seguintes\n",
    "suposições:\n",
    "- Cidades: Representadas por cromossomos, são números inteiros de 1 a 20.\n",
    "- As n cidades serão listados na ordem c1 → c2 → ... → cn num dado cromossomo. \n",
    "- Coordenadas: Consideramos 20 cidades com coordenadas representadas por números aleatórios entre (0,0) e (1,1) em um plano cartesiano.\n",
    "- Partindo do princípio que estamos tentando minimizar a distância total que o caixeiroviajante percorre, a função de aptdão será a distância total D:\n",
    "<img src=\"Images/D1.png\" width=300 align=\"left\" >    \n"
   ]
  },
  {
   "cell_type": "markdown",
   "metadata": {},
   "source": [
    "- A cidade n+1 = Cidade 1 (estado inicial). Se (xi, yi) são as coordenadas da cidade ci, logo, a função de aptidão (fitness) é dada pela distância euclidiana:\n",
    "<img src=\"Images/D2.png\" width=300 align=\"left\"> "
   ]
  },
  {
   "cell_type": "markdown",
   "metadata": {},
   "source": [
    "- Assumimos que a distância d da cidade ci para a cidade cj é: d (ci, cj) = d (cj, ci) para todo i ∈\n",
    "[1, n] e j ∈ [1, n]. \n",
    "- O tamanho da população é 20 e o número de interações é 10.000.\n",
    "- Para construir as gerações subsequentes, mantemos a metade da população atual e geramos a outra metade da nova geração por meio da seleção e do crossover, mantendo apenas parte da população.\n",
    "- Para determinar a distribuição do conjunto de cromossomos que serão escolhidos para a reprodução, calculamos a probabilidade, na qual distribuimos os valores inversamente (visto que organizamos os cromossomos em ordem crescente do mais apto ao menos apto).\n",
    "- Para selecionar os cromossomo, utilizamos o método da roleta.\n",
    "- Como no nosso caso o agente visita somente uma vez cada cidade, utilizaremos para fazer a Recombinação (crossover) a técnica de “cycle” (exemplo na Figura 1), onde:\n",
    "\n",
    "        - Escolhemos um local aleatório dentro do cromossomo.\n",
    "        \n",
    "        - Passo 1: Os dois cromossomos pais trocam os números inteiros neste local para gerar os descendentes.\n",
    "          A menos que os números trocados tenham o mesmo valor, cada descendente terá um número duplicado.\n",
    "          \n",
    "        - Passo 2: Em seguida, mudamos o número duplicado da primeira descendência com o mesmo local do número da \n",
    "          segunda descendência\n",
    "          \n",
    "        - Passo 3 e 4: Isto significa que temos agora outro número duplicado \n",
    "          então, repitiremos este processo até não terem mais números duplicados\n",
    "\n",
    "Exemplo de Recombinação Cycle:\n",
    "<img src=\"Images/Cycle.png\"> \n",
    "\n",
    "- O operador de mutação escolhe aleatoriamente dois números inteiros em um cromossomo da nova geração e os troca. O operador de mutação atua sobre cada membro da nova geração com probabilidade de 0,05"
   ]
  },
  {
   "cell_type": "markdown",
   "metadata": {},
   "source": [
    "### Desenvolvimento:\n",
    "\n",
    "Nesta sessão será demonstrado o passo a passo para a solução do problema proposto, incluindo:\n",
    "- A definição da função de aptidão  \n",
    "- A definição das coordenadas para as 20 cidades\n",
    "- A geração da população inicial\n",
    "- A criação da Roleta\n",
    "- A obtenção das próximas gerações"
   ]
  },
  {
   "cell_type": "markdown",
   "metadata": {},
   "source": [
    "#### Definição da função de aptidão:"
   ]
  },
  {
   "cell_type": "code",
   "execution_count": null,
   "metadata": {},
   "outputs": [],
   "source": []
  },
  {
   "cell_type": "markdown",
   "metadata": {},
   "source": [
    "#### Definição das coordenadas para as 20 cidades:"
   ]
  },
  {
   "cell_type": "code",
   "execution_count": null,
   "metadata": {},
   "outputs": [],
   "source": []
  },
  {
   "cell_type": "markdown",
   "metadata": {},
   "source": [
    "#### Geração da população inicial:"
   ]
  },
  {
   "cell_type": "code",
   "execution_count": null,
   "metadata": {},
   "outputs": [],
   "source": []
  },
  {
   "cell_type": "markdown",
   "metadata": {},
   "source": [
    "#### Criação da Roleta:"
   ]
  },
  {
   "cell_type": "code",
   "execution_count": null,
   "metadata": {},
   "outputs": [],
   "source": []
  },
  {
   "cell_type": "markdown",
   "metadata": {},
   "source": [
    "#### Obtenção das próximas gerações:"
   ]
  },
  {
   "cell_type": "code",
   "execution_count": null,
   "metadata": {},
   "outputs": [],
   "source": []
  },
  {
   "cell_type": "markdown",
   "metadata": {},
   "source": [
    "### Resultados:\n",
    "\n",
    "Nesta seção será demonstrado o caminho encontrado pelo algoritmo, bem como os resultados referentes para:\n",
    "\n",
    "- O tamanho da populacao\n",
    "- A taxa de mutacao \n",
    "- O número de cidades \n",
    "- O melhor custo \n",
    "- A melhor solução\n"
   ]
  },
  {
   "cell_type": "code",
   "execution_count": null,
   "metadata": {},
   "outputs": [],
   "source": []
  }
 ],
 "metadata": {
  "kernelspec": {
   "display_name": "Python 3",
   "language": "python",
   "name": "python3"
  },
  "language_info": {
   "codemirror_mode": {
    "name": "ipython",
    "version": 3
   },
   "file_extension": ".py",
   "mimetype": "text/x-python",
   "name": "python",
   "nbconvert_exporter": "python",
   "pygments_lexer": "ipython3",
   "version": "3.7.3"
  }
 },
 "nbformat": 4,
 "nbformat_minor": 2
}
